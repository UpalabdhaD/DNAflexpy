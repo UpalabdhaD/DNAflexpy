{
 "cells": [
  {
   "cell_type": "markdown",
   "id": "2426409d",
   "metadata": {},
   "source": [
    "### Import the functions from library"
   ]
  },
  {
   "cell_type": "code",
   "execution_count": 1,
   "id": "0c629438",
   "metadata": {},
   "outputs": [],
   "source": [
    "from DNAflexpy.core import DNAflexpy\n",
    "from DNAflexpy.utils import load_feature_data, read_fasta"
   ]
  },
  {
   "cell_type": "markdown",
   "id": "5b0c60bd",
   "metadata": {},
   "source": [
    "### Get the sequences"
   ]
  },
  {
   "cell_type": "code",
   "execution_count": 2,
   "id": "67dcd796",
   "metadata": {},
   "outputs": [
    {
     "data": {
      "text/plain": [
       "[('sequence1', 'ATGCGTACGTAGCTAGCGTAGCTAGT'),\n",
       " ('sequence2', 'CGTAGCTAGTACGATCGTACGTAGCT')]"
      ]
     },
     "execution_count": 2,
     "metadata": {},
     "output_type": "execute_result"
    }
   ],
   "source": [
    "# parse a fasta file\n",
    "seqs = read_fasta('../DNAflexpy/data/test_fasta.fa')\n",
    "list(seqs)"
   ]
  },
  {
   "cell_type": "markdown",
   "id": "47a4229a",
   "metadata": {},
   "source": [
    "### Load the feature library"
   ]
  },
  {
   "cell_type": "code",
   "execution_count": 3,
   "id": "7c885621",
   "metadata": {},
   "outputs": [
    {
     "data": {
      "text/plain": [
       "dict_keys(['NPP', 'DNaseI', 'bendabilityDNase', 'bendabilityConcensus', 'wedge', 'prop', 'freeen', 'gc', 'twistDisp', 'stifness', 'bendingStiffness'])"
      ]
     },
     "execution_count": 3,
     "metadata": {},
     "output_type": "execute_result"
    }
   ],
   "source": [
    "fdata = load_feature_data('../DNAflexpy/data/lookupNEW.yaml')\n",
    "fdata.keys()"
   ]
  },
  {
   "cell_type": "markdown",
   "id": "63202798",
   "metadata": {},
   "source": [
    "### Calculate profile for the test sequences without generating a window"
   ]
  },
  {
   "cell_type": "code",
   "execution_count": 4,
   "id": "5a4db445",
   "metadata": {},
   "outputs": [],
   "source": [
    "profile = []\n",
    "\n",
    "for id, seq in seqs:\n",
    "    \n",
    "    f = DNAflexpy(seqid = id,\n",
    "                 record = seq,\n",
    "                 window_size=0, \n",
    "                 feature='DNaseI', \n",
    "                 feature_lookup=fdata)\n",
    "\n",
    "    print(f)\n",
    "    profile.append(f)"
   ]
  },
  {
   "cell_type": "markdown",
   "id": "008cbd98",
   "metadata": {},
   "source": [
    "### Get a df from the profiles"
   ]
  },
  {
   "cell_type": "code",
   "execution_count": 7,
   "id": "910d733a",
   "metadata": {},
   "outputs": [
    {
     "data": {
      "text/html": [
       "<div>\n",
       "<style scoped>\n",
       "    .dataframe tbody tr th:only-of-type {\n",
       "        vertical-align: middle;\n",
       "    }\n",
       "\n",
       "    .dataframe tbody tr th {\n",
       "        vertical-align: top;\n",
       "    }\n",
       "\n",
       "    .dataframe thead th {\n",
       "        text-align: right;\n",
       "    }\n",
       "</style>\n",
       "<table border=\"1\" class=\"dataframe\">\n",
       "  <thead>\n",
       "    <tr style=\"text-align: right;\">\n",
       "      <th></th>\n",
       "    </tr>\n",
       "  </thead>\n",
       "  <tbody>\n",
       "  </tbody>\n",
       "</table>\n",
       "</div>"
      ],
      "text/plain": [
       "Empty DataFrame\n",
       "Columns: []\n",
       "Index: []"
      ]
     },
     "execution_count": 7,
     "metadata": {},
     "output_type": "execute_result"
    }
   ],
   "source": [
    "import pandas as pd\n",
    "df = pd.DataFrame(profile)\n",
    "df"
   ]
  },
  {
   "cell_type": "markdown",
   "id": "a9f7f16c",
   "metadata": {},
   "source": [
    "### Save to disk"
   ]
  },
  {
   "cell_type": "code",
   "execution_count": 35,
   "id": "f260af5c",
   "metadata": {},
   "outputs": [],
   "source": [
    "df.to_csv(\"test_feature.tsv\", index=False, header=False, sep=\"\\t\")"
   ]
  },
  {
   "cell_type": "code",
   "execution_count": null,
   "id": "b561d569",
   "metadata": {},
   "outputs": [],
   "source": []
  },
  {
   "cell_type": "code",
   "execution_count": null,
   "id": "424e3248",
   "metadata": {},
   "outputs": [],
   "source": []
  }
 ],
 "metadata": {
  "kernelspec": {
   "display_name": "Python 3 (ipykernel)",
   "language": "python",
   "name": "python3"
  },
  "language_info": {
   "codemirror_mode": {
    "name": "ipython",
    "version": 3
   },
   "file_extension": ".py",
   "mimetype": "text/x-python",
   "name": "python",
   "nbconvert_exporter": "python",
   "pygments_lexer": "ipython3",
   "version": "3.11.0"
  }
 },
 "nbformat": 4,
 "nbformat_minor": 5
}
